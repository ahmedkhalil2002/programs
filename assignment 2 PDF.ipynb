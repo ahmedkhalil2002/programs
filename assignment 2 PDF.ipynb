{
 "cells": [
  {
   "cell_type": "code",
   "execution_count": 2,
   "id": "d46afd88",
   "metadata": {},
   "outputs": [
    {
     "name": "stdout",
     "output_type": "stream",
     "text": [
      "--> ahmed\n",
      "('ahmed', 'khalil', 'ahmed')\n"
     ]
    }
   ],
   "source": [
    "# 1. Write a Python program to add an item to a tuple.\n",
    "\n",
    "my_tuple = (\"ahmed\", \"khalil\")\n",
    "\n",
    "item_add = input(\"--> \")\n",
    "my_tuple = list(my_tuple)\n",
    "my_tuple.append(item_add)\n",
    "my_tuple = tuple(my_tuple)\n",
    "print(my_tuple)"
   ]
  },
  {
   "cell_type": "code",
   "execution_count": 3,
   "id": "4d3d8428",
   "metadata": {},
   "outputs": [
    {
     "name": "stdout",
     "output_type": "stream",
     "text": [
      "47\n"
     ]
    }
   ],
   "source": [
    "# 2. Write a Python program to sum all the items in a list\n",
    "my_list = [10, 5, 12, 20]\n",
    "\n",
    "sum_ = sum(my_list)\n",
    "print(sum_)"
   ]
  },
  {
   "cell_type": "code",
   "execution_count": 4,
   "id": "ad44fbec",
   "metadata": {},
   "outputs": [
    {
     "name": "stdout",
     "output_type": "stream",
     "text": [
      "100\n"
     ]
    }
   ],
   "source": [
    "# 3. Write a Python program to multiply all the items in a list.\n",
    "def multiply(list_items):\n",
    "    result = list_items[0]\n",
    "    for i in range(1, len(my_list)):\n",
    "        result *= my_list[i]\n",
    "    return result\n",
    "\n",
    "\n",
    "my_list = [10, 5, 2]\n",
    "print(multiply(my_list))"
   ]
  },
  {
   "cell_type": "code",
   "execution_count": 5,
   "id": "482fe164",
   "metadata": {},
   "outputs": [
    {
     "name": "stdout",
     "output_type": "stream",
     "text": [
      "1\n"
     ]
    }
   ],
   "source": [
    "# 4. Write a Python program to get the smallest number from a list\n",
    "def smallest(list_items):\n",
    "    smallest_number = list_items[0]\n",
    "    for i in range(1, len(my_list)):\n",
    "        if my_list[i] < smallest_number:\n",
    "            smallest_number = my_list[i]\n",
    "    return smallest_number\n",
    "\n",
    "\n",
    "my_list = [10, 5, 2, 20, 60, 1]\n",
    "print(smallest(my_list))"
   ]
  },
  {
   "cell_type": "code",
   "execution_count": 6,
   "id": "28b064bf",
   "metadata": {},
   "outputs": [
    {
     "name": "stdout",
     "output_type": "stream",
     "text": [
      "60\n"
     ]
    }
   ],
   "source": [
    "# Write a Python program to get the largest number from a list.\n",
    "def largest(list_items):\n",
    "    largest_number = list_items[0]\n",
    "    for i in range(1, len(my_list)):\n",
    "        if my_list[i] > largest_number:\n",
    "            largest_number = my_list[i]\n",
    "    return largest_number\n",
    "\n",
    "\n",
    "my_list = [10, 5, 2, 20, 60, 1]\n",
    "print(largest(my_list))"
   ]
  },
  {
   "cell_type": "code",
   "execution_count": 7,
   "id": "0f64bd80",
   "metadata": {},
   "outputs": [
    {
     "name": "stdout",
     "output_type": "stream",
     "text": [
      "3\n",
      "3\n"
     ]
    }
   ],
   "source": [
    "# 6. Write a Python program to count the number of strings from a given list of strings\n",
    "def count_strings(list_items):\n",
    "    count = 0\n",
    "    for string in list_items:\n",
    "        count += 1\n",
    "    return count\n",
    "\n",
    "\n",
    "my_list = [\"ahmed\", \"mohamed\", \"khalil\"]\n",
    "print(count_strings(my_list))\n",
    "\n",
    "# or\n",
    "print(len(my_list))"
   ]
  },
  {
   "cell_type": "code",
   "execution_count": 8,
   "id": "b8626747",
   "metadata": {},
   "outputs": [
    {
     "name": "stdout",
     "output_type": "stream",
     "text": [
      "['ahmed', 'mohamed', 'khalil']\n",
      "['ahmed', 'mohamed', 'khalil']\n"
     ]
    }
   ],
   "source": [
    "# 7. Write a Python program to clone or copy a list\n",
    "my_list = [\"ahmed\", \"mohamed\", \"khalil\"]\n",
    "\n",
    "# 1st way\n",
    "cloned_list = my_list.copy()\n",
    "print(cloned_list)\n",
    "\n",
    "# 2nd way\n",
    "cloned_list = my_list[:]\n",
    "print(cloned_list)"
   ]
  },
  {
   "cell_type": "code",
   "execution_count": 9,
   "id": "20a93315",
   "metadata": {},
   "outputs": [
    {
     "name": "stdout",
     "output_type": "stream",
     "text": [
      "{'mohamed', 'khalil'}\n"
     ]
    }
   ],
   "source": [
    "# 8. Write a Python program to remove item(s) from a given set.\n",
    "my_set = {\"ahmed\", \"mohamed\", \"khalil\"}\n",
    "\n",
    "my_set.remove(\"ahmed\")\n",
    "print(my_set)"
   ]
  },
  {
   "cell_type": "code",
   "execution_count": 10,
   "id": "e3b1e681",
   "metadata": {},
   "outputs": [
    {
     "name": "stdout",
     "output_type": "stream",
     "text": [
      "Yes\n"
     ]
    }
   ],
   "source": [
    "# 9. Write a Python program to check if a set is a subset of another set\n",
    "def isSubSet(set1, set2):\n",
    "    flag = True\n",
    "    for item in set2:\n",
    "        if item in set1:\n",
    "            continue\n",
    "        else:\n",
    "            flag = False\n",
    "    if flag:\n",
    "        print(\"Yes\")\n",
    "    else:\n",
    "        print(\"No\")\n",
    "\n",
    "\n",
    "my_set = {\"ahmed\", \"mohamed\", \"khalil\", \"ibrahim\", \"aly\"}\n",
    "subSet = {\"khalil\", \"mohamed\"}\n",
    "\n",
    "isSubSet(my_set, subSet)\n"
   ]
  },
  {
   "cell_type": "code",
   "execution_count": 11,
   "id": "6b840cd0",
   "metadata": {},
   "outputs": [
    {
     "name": "stdout",
     "output_type": "stream",
     "text": [
      "set()\n"
     ]
    }
   ],
   "source": [
    "# 10. Write a Python program to remove all elements from a given set.\n",
    "my_set = {\"ahmed\", \"mohamed\", \"khalil\", \"ibrahim\", \"aly\"}\n",
    "my_set.clear()\n",
    "print(my_set)"
   ]
  },
  {
   "cell_type": "code",
   "execution_count": 12,
   "id": "1594b542",
   "metadata": {},
   "outputs": [
    {
     "name": "stdout",
     "output_type": "stream",
     "text": [
      "9\n",
      "1\n"
     ]
    }
   ],
   "source": [
    "# 11. Write a Python program to find the maximum and minimum values in a set.\n",
    "my_set = {3, 7, 1, 9, 2, 5}\n",
    "\n",
    "max_value = max(my_set)\n",
    "min_value = min(my_set)\n",
    "\n",
    "print( max_value)\n",
    "print(min_value)"
   ]
  },
  {
   "cell_type": "code",
   "execution_count": 13,
   "id": "627a72ce",
   "metadata": {},
   "outputs": [
    {
     "name": "stdout",
     "output_type": "stream",
     "text": [
      "2\n"
     ]
    }
   ],
   "source": [
    "# Write a Python program to find the index of an item in a tuple.\n",
    "my_tuple = (\"ahmed\", \"mohamed\", \"khalil\")\n",
    "index_number = my_tuple.index(\"khalil\")\n",
    "print(index_number)"
   ]
  },
  {
   "cell_type": "code",
   "execution_count": 17,
   "id": "03682031",
   "metadata": {},
   "outputs": [
    {
     "name": "stdout",
     "output_type": "stream",
     "text": [
      "{'ahmed': 22, 'mohamed': 23, 'khalil': 30}\n"
     ]
    }
   ],
   "source": [
    "# Write a Python program to convert a tuple to a dictionary.\n",
    "my_tuple = ((\"ahmed\", 22), (\"mohamed\", 23), (\"khalil\", 30))\n",
    "my_dict = {}\n",
    "for key, value in my_tuple:\n",
    "    my_dict[key] = value\n",
    "    \n",
    "print(my_dict)"
   ]
  },
  {
   "cell_type": "code",
   "execution_count": 16,
   "id": "ebe924bf",
   "metadata": {},
   "outputs": [
    {
     "name": "stdout",
     "output_type": "stream",
     "text": [
      "['ahmed', 'mohamed', 'khalil']\n",
      "[22, 23, 30]\n"
     ]
    }
   ],
   "source": [
    "# 14. Write a Python program to unzip a list of tuples into individual lists.\n",
    "my_tuple = ((\"ahmed\", 22), (\"mohamed\", 23), (\"khalil\", 30))\n",
    "name = []\n",
    "age = []\n",
    "for name_, age_ in my_tuple:\n",
    "    name.append(name_)\n",
    "    age.append(age_)\n",
    "\n",
    "print(name)\n",
    "print(age)"
   ]
  },
  {
   "cell_type": "code",
   "execution_count": 21,
   "id": "3f053902",
   "metadata": {},
   "outputs": [
    {
     "name": "stdout",
     "output_type": "stream",
     "text": [
      "('khalil', 'mohamed', 'ahmed')\n"
     ]
    }
   ],
   "source": [
    "# 15. Write a Python program to reverse a tuple.\n",
    "my_tuple = (\"ahmed\", \"mohamed\", \"khalil\")\n",
    "reverse_tuple = my_tuple[::-1]\n",
    "print(reverse_tuple)"
   ]
  },
  {
   "cell_type": "code",
   "execution_count": 18,
   "id": "7a67ea59",
   "metadata": {},
   "outputs": [],
   "source": [
    "# 16. Write a Python program to convert a list of tuples into a dictionary.\n",
    "# same as 13"
   ]
  },
  {
   "cell_type": "code",
   "execution_count": 19,
   "id": "33c06912",
   "metadata": {},
   "outputs": [],
   "source": [
    "# 17. Write a Python program to replace the last value of tuples in a list.\n",
    "# i don't get it"
   ]
  },
  {
   "cell_type": "code",
   "execution_count": 20,
   "id": "e998d378",
   "metadata": {},
   "outputs": [
    {
     "name": "stdout",
     "output_type": "stream",
     "text": [
      "[1.16, 1.2, 1.5, 1.9]\n"
     ]
    }
   ],
   "source": [
    "# 18. Write a Python program to sort a tuple by its float element\n",
    "my_tuple = (1.2, 1.5, 1.9, 1.16)\n",
    "\n",
    "sorted_tuple = sorted(my_tuple)\n",
    "print(sorted_tuple)"
   ]
  },
  {
   "cell_type": "code",
   "execution_count": null,
   "id": "69311787",
   "metadata": {},
   "outputs": [],
   "source": []
  }
 ],
 "metadata": {
  "kernelspec": {
   "display_name": "Python 3 (ipykernel)",
   "language": "python",
   "name": "python3"
  },
  "language_info": {
   "codemirror_mode": {
    "name": "ipython",
    "version": 3
   },
   "file_extension": ".py",
   "mimetype": "text/x-python",
   "name": "python",
   "nbconvert_exporter": "python",
   "pygments_lexer": "ipython3",
   "version": "3.9.13"
  }
 },
 "nbformat": 4,
 "nbformat_minor": 5
}
