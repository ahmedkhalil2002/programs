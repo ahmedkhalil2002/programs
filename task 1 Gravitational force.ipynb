{
 "cells": [
  {
   "cell_type": "code",
   "execution_count": 3,
   "id": "427c7176",
   "metadata": {},
   "outputs": [
    {
     "name": "stdout",
     "output_type": "stream",
     "text": [
      "Enter G 6.67\n",
      "Enter Mearth 6\n",
      "Enter Mmoon 7.34\n",
      "Enter r3.84\n",
      "1.9920979817708333e+20\n"
     ]
    }
   ],
   "source": [
    "g = float(input(\"Enter G \")) * (10 ** -11)\n",
    "m_earth = float(input(\"Enter Mearth \")) * (10 ** 24)\n",
    "m_moon = float(input(\"Enter Mmoon \")) * (10 ** 22)\n",
    "r = float(input(\"Enter r\")) * (10 ** 8)\n",
    "\n",
    "gf = (g * m_earth * m_moon) / (r**2)\n",
    "print(gf)"
   ]
  },
  {
   "cell_type": "code",
   "execution_count": null,
   "id": "a9620c2c",
   "metadata": {},
   "outputs": [],
   "source": []
  }
 ],
 "metadata": {
  "kernelspec": {
   "display_name": "Python 3 (ipykernel)",
   "language": "python",
   "name": "python3"
  },
  "language_info": {
   "codemirror_mode": {
    "name": "ipython",
    "version": 3
   },
   "file_extension": ".py",
   "mimetype": "text/x-python",
   "name": "python",
   "nbconvert_exporter": "python",
   "pygments_lexer": "ipython3",
   "version": "3.9.13"
  }
 },
 "nbformat": 4,
 "nbformat_minor": 5
}
