{
  "nbformat": 4,
  "nbformat_minor": 0,
  "metadata": {
    "colab": {
      "provenance": [],
      "toc_visible": true
    },
    "kernelspec": {
      "name": "python3",
      "display_name": "Python 3"
    },
    "language_info": {
      "name": "python"
    }
  },
  "cells": [
    {
      "cell_type": "code",
      "execution_count": 1,
      "metadata": {
        "colab": {
          "base_uri": "https://localhost:8080/"
        },
        "id": "F6Ad6bhO7ZI3",
        "outputId": "1994fbae-caa7-4cea-fbe6-7f69463d66c4"
      },
      "outputs": [
        {
          "output_type": "execute_result",
          "data": {
            "text/plain": [
              "120"
            ]
          },
          "metadata": {},
          "execution_count": 1
        }
      ],
      "source": [
        "# Task 1.\n",
        "# 1. Calculate Factorial using recursion\n",
        "def fact(n):\n",
        "  if n == 1:\n",
        "    return 1\n",
        "  else:\n",
        "    return n * fact(n - 1)\n",
        "\n",
        "fact(5)"
      ]
    },
    {
      "cell_type": "code",
      "source": [
        "# Task 2.\n",
        "# 1. Write a function that takes a number and return True if this number is prime and False if not.\n",
        "\n",
        "d = 0\n",
        "number = int(input(\"Enter number : \"))\n",
        "\n",
        "for i in range(1, number + 1):\n",
        "  if number % i == 0:\n",
        "    d += 1\n",
        "\n",
        "if d == 2:\n",
        "  print(\"prime\")\n",
        "else:\n",
        "  print(\"not prime\")"
      ],
      "metadata": {
        "colab": {
          "base_uri": "https://localhost:8080/"
        },
        "id": "vs2dXJiv72hj",
        "outputId": "df873623-3aa8-4545-eef6-5fad7e0b3d72"
      },
      "execution_count": 9,
      "outputs": [
        {
          "output_type": "stream",
          "name": "stdout",
          "text": [
            "Enter number : 7\n",
            "prime\n"
          ]
        }
      ]
    },
    {
      "cell_type": "code",
      "source": [
        "# Task 3.\n",
        "# 1. Write a function that takes two numbers and return a list of common dividors\n",
        "num1 = int(input(\"Enter 1st number\"))\n",
        "num2 = int(input(\"Enter 2nd number\"))\n",
        "\n",
        "d = []\n",
        "for i in range(1, min(num1, num2) + 1):\n",
        "  if num1 % i == 0 and num2 % i == 0:\n",
        "    d.append(i)\n",
        "print(d)"
      ],
      "metadata": {
        "colab": {
          "base_uri": "https://localhost:8080/"
        },
        "id": "k4WVE7N18ZFP",
        "outputId": "68ba8753-c24a-4ac3-89c4-2a46aeb01008"
      },
      "execution_count": 11,
      "outputs": [
        {
          "output_type": "stream",
          "name": "stdout",
          "text": [
            "Enter 1st number24\n",
            "Enter 2nd number36\n",
            "[1, 2, 3, 4, 6, 12]\n"
          ]
        }
      ]
    },
    {
      "cell_type": "code",
      "source": [
        "# Task 4.\n",
        "# 1. Given two strings, write a program that efficiently finds the longest common subsequence\n",
        "\n",
        "str1 = input(\"Enter str 1\").split()\n",
        "str2 = input(\"Enter str 2\").split()\n",
        "common = \"\"\n",
        "\n",
        "for word1 in str1:\n",
        "  for word2 in str2:\n",
        "    if word1 == word2:\n",
        "      common += word1 + \" \"\n",
        "\n",
        "common\n"
      ],
      "metadata": {
        "colab": {
          "base_uri": "https://localhost:8080/",
          "height": 70
        },
        "id": "lVYm1yWe9OKb",
        "outputId": "f7f4adb8-8b3d-4944-a914-9714ddac42c1"
      },
      "execution_count": 14,
      "outputs": [
        {
          "name": "stdout",
          "output_type": "stream",
          "text": [
            "Enter str 1Welcome to Machine Learning Diploma\n",
            "Enter str 2I am studying a Machine Learning Course\n"
          ]
        },
        {
          "output_type": "execute_result",
          "data": {
            "text/plain": [
              "'Machine Learning '"
            ],
            "application/vnd.google.colaboratory.intrinsic+json": {
              "type": "string"
            }
          },
          "metadata": {},
          "execution_count": 14
        }
      ]
    },
    {
      "cell_type": "code",
      "source": [
        "# Task 5.\n",
        "# 1. Write a function that will take a given string and reverse the order of words.\n",
        "\n",
        "string = input(\"Enter str\").split()\n",
        "r_string = \"\"\n",
        "for i in range(1, len(string) + 1):\n",
        "  r_string += string[-i] + \" \"\n",
        "\n",
        "print(r_string)"
      ],
      "metadata": {
        "colab": {
          "base_uri": "https://localhost:8080/"
        },
        "id": "BdFIOc_V-hjp",
        "outputId": "1554311b-2d93-4dea-8042-9b87210ae9dc"
      },
      "execution_count": 25,
      "outputs": [
        {
          "output_type": "stream",
          "name": "stdout",
          "text": [
            "Enter strhello world\n",
            "world hello \n"
          ]
        }
      ]
    },
    {
      "cell_type": "code",
      "source": [
        ", c_wchar\n",
        "from ctypes import c_char\n",
        "# Task 6.\n",
        "# 1. Create a program that generates a random password of a given length.\n",
        "import random\n",
        "\n",
        "char = ['0', '1', '2', '3', '4', '5', '6', '7', '8' , '9', 'a', 'b', 'C', 'd', 'e', 'f', 'g', '@', '#', '!']\n",
        "\n",
        "pass_len = int(input(\"Enter length\"))\n",
        "\n",
        "\n",
        "password_list = [random.choice(char) for i in range(pass_len)]\n",
        "password = \"\"\n",
        "\n",
        "\n",
        "for i in password_list:\n",
        "  password += i\n",
        "\n",
        "print(password)"
      ],
      "metadata": {
        "colab": {
          "base_uri": "https://localhost:8080/"
        },
        "id": "PZCoIsIN_ixJ",
        "outputId": "c601376a-0011-48f0-c496-7f1ba80f847c"
      },
      "execution_count": 55,
      "outputs": [
        {
          "output_type": "stream",
          "name": "stdout",
          "text": [
            "Enter length50\n",
            "2db0Cbd1d2e2C6f46#24!4ed5b!C8b373ea2823b24e#!1#9!7\n"
          ]
        }
      ]
    },
    {
      "cell_type": "code",
      "source": [
        "# Task 7.\n",
        "# 1. Write a Python program to find all the unique words and count the frequency of occurrence from a given list of strings\n",
        "\n",
        "# **Ex:** [\"Welcome\", \"Ali\", \"Hi\", \"Ali\", \"No\", \"Hi\", \"No\", \"Ali\", \"No\", \"Ali\"]  → {'Ali': 4, 'Welcome': 1, 'No': 3, 'Hi': 2}\n",
        "\n",
        "list_ = [\"Welcome\", \"Ali\", \"Hi\", \"Ali\", \"No\", \"Hi\", \"No\", \"Ali\", \"No\", \"Ali\"]\n",
        "\n",
        "freq = {}\n",
        "\n",
        "for word in list_:\n",
        "  if word in freq:\n",
        "    freq[word] += 1\n",
        "  else:\n",
        "    freq[word] = 1\n",
        "\n",
        "print(freq)"
      ],
      "metadata": {
        "colab": {
          "base_uri": "https://localhost:8080/"
        },
        "id": "_xbXacaiDIyL",
        "outputId": "4375c866-4106-44d5-c23f-90c76dfc2394"
      },
      "execution_count": 57,
      "outputs": [
        {
          "output_type": "stream",
          "name": "stdout",
          "text": [
            "{'Welcome': 1, 'Ali': 4, 'Hi': 2, 'No': 3}\n"
          ]
        }
      ]
    },
    {
      "cell_type": "markdown",
      "source": [
        "# New Section"
      ],
      "metadata": {
        "id": "6im2H2_2I9Bx"
      }
    },
    {
      "cell_type": "code",
      "source": [
        "# Task 8.\n",
        "\n",
        "\n",
        "with open(\"text.txt\") as file:\n",
        "    data = file.readline().split()\n",
        "\n",
        "freq = {}\n",
        "\n",
        "for word in data:\n",
        "    if word in freq:\n",
        "        freq[word] += 1\n",
        "    else:\n",
        "        freq[word] = 1\n",
        "\n",
        "count = \"\"\n",
        "for key, value in freq.items():\n",
        "    count += f\"{key}: {value}, \"\n",
        "\n",
        "with open(\"Text2\", \"w\") as file2:\n",
        "    file2.write(count)\n",
        "\n",
        "# i cannot open and read file in colab so i try it in pycharm and copy it here"
      ],
      "metadata": {
        "id": "cSu8TK5kIkL4"
      },
      "execution_count": null,
      "outputs": []
    },
    {
      "cell_type": "code",
      "source": [
        "# Task 10: Person class and child Student class\n",
        "\n",
        "class Person:\n",
        "  def __init__(self, name, age):\n",
        "    self.name = name\n",
        "    self.age = age\n",
        "\n",
        "  def display(self):\n",
        "    print(self.name)\n",
        "    print(self.age)\n",
        "\n",
        "p1 = Person(\"ahmed\", 21)\n",
        "\n",
        "class Student(Person):\n",
        "  def __init__(self, name, age, school):\n",
        "    super().__init__(name, age)\n",
        "    self.school = school\n",
        "\n",
        "  def displayStudent(self):\n",
        "    print(f\"name : {self.name}, age : {self.age}, school : {self.school}\")\n",
        "\n",
        "s1 = Student(\"ahmed\", 21, \"EBS\")\n",
        "s1.displayStudent()"
      ],
      "metadata": {
        "colab": {
          "base_uri": "https://localhost:8080/"
        },
        "id": "mushAsEwNWri",
        "outputId": "315c3e6a-d406-40a6-9ecb-3dd1bc5c9378"
      },
      "execution_count": 63,
      "outputs": [
        {
          "output_type": "stream",
          "name": "stdout",
          "text": [
            "name : ahmed, age : 21, school : EBS\n"
          ]
        }
      ]
    },
    {
      "cell_type": "code",
      "source": [
        "# Task 11: Rectangle class:\n",
        "\n",
        "class Rectangle:\n",
        "  def __init__(self, length, width):\n",
        "    self.length = length\n",
        "    self.width = width\n",
        "\n",
        "  def perimeter(self):\n",
        "    return 2 * (self.length + self.width)\n",
        "\n",
        "  def area(self):\n",
        "    return self.length * self.width\n",
        "\n",
        "  def display(self):\n",
        "    print(f\"lenght : {self.length}, width : {self.width}, perimeter : {self.perimeter()}, area : {self.area()}\")\n",
        "\n",
        "rec = Rectangle(5, 5)\n",
        "\n",
        "rec.display()"
      ],
      "metadata": {
        "colab": {
          "base_uri": "https://localhost:8080/"
        },
        "id": "ipK69ghFOUOG",
        "outputId": "b37110d4-6167-4f78-979f-1e8a464ea22b"
      },
      "execution_count": 69,
      "outputs": [
        {
          "output_type": "stream",
          "name": "stdout",
          "text": [
            "lenght : 5, width : 5, perimeter : 20, area : 25\n"
          ]
        }
      ]
    },
    {
      "cell_type": "code",
      "source": [],
      "metadata": {
        "id": "32qq2RX3QGbG"
      },
      "execution_count": null,
      "outputs": []
    }
  ]
}