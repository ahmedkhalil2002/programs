{
 "cells": [
  {
   "cell_type": "code",
   "execution_count": 9,
   "id": "06fef936",
   "metadata": {},
   "outputs": [
    {
     "name": "stdout",
     "output_type": "stream",
     "text": [
      "rock , paper, scissor ?rock\n",
      "Your choice : rock, Computer choice: scissor\n",
      "you win\n"
     ]
    }
   ],
   "source": [
    "from random import *\n",
    "\n",
    "choices = [\"rock\", \"paper\", \"scissor\"]\n",
    "\n",
    "userInput = input(\"rock , paper, scissor ?\")\n",
    "python_choice = choice(choices)\n",
    "\n",
    "print(f\"Your choice : {userInput}, Computer choice: {python_choice}\")\n",
    "\n",
    "if userInput == python_choice:\n",
    "    print(\"Draw\")\n",
    "elif userInput == \"rock\" and python_choice == \"paper\":\n",
    "    print(\"computer win\")\n",
    "elif userInput == \"scissor\" and python_choice == \"rock\":\n",
    "    print(\"computer win\")    \n",
    "elif userInput == \"paper\" and python_choice == \"scissor\":\n",
    "    print(\"computer win\")\n",
    "else:\n",
    "    print(\"you win\")\n",
    "    \n"
   ]
  },
  {
   "cell_type": "code",
   "execution_count": null,
   "id": "c07de0fd",
   "metadata": {},
   "outputs": [],
   "source": []
  },
  {
   "cell_type": "code",
   "execution_count": null,
   "id": "d3ee623c",
   "metadata": {},
   "outputs": [],
   "source": []
  }
 ],
 "metadata": {
  "kernelspec": {
   "display_name": "Python 3 (ipykernel)",
   "language": "python",
   "name": "python3"
  },
  "language_info": {
   "codemirror_mode": {
    "name": "ipython",
    "version": 3
   },
   "file_extension": ".py",
   "mimetype": "text/x-python",
   "name": "python",
   "nbconvert_exporter": "python",
   "pygments_lexer": "ipython3",
   "version": "3.9.13"
  }
 },
 "nbformat": 4,
 "nbformat_minor": 5
}
