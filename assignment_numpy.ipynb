{
  "nbformat": 4,
  "nbformat_minor": 0,
  "metadata": {
    "colab": {
      "provenance": []
    },
    "kernelspec": {
      "name": "python3",
      "display_name": "Python 3"
    },
    "language_info": {
      "name": "python"
    }
  },
  "cells": [
    {
      "cell_type": "code",
      "execution_count": 1,
      "metadata": {
        "id": "klO_GUxzlp43"
      },
      "outputs": [],
      "source": [
        "import numpy as np"
      ]
    },
    {
      "cell_type": "code",
      "source": [
        "# 1. Write a NumPy program to test whether none of the elements of a given array is zero.\n",
        "# 2. Write a NumPy program to test whether any of the elements of a given array is non-zero.\n",
        "\n",
        "arr = np.array([10, 20, 30, 5, 0, 0, 5])\n",
        "size = arr.size\n",
        "NonZerosCount = np.count_nonzero(arr)\n",
        "\n",
        "number_of_zeros = size - NonZerosCount\n",
        "if number_of_zeros != 0:\n",
        "  print(f\"there are {number_of_zeros} zeros in array\")\n",
        "else:\n",
        "  print(f\"Zero Not found in array\")"
      ],
      "metadata": {
        "colab": {
          "base_uri": "https://localhost:8080/"
        },
        "id": "qoGdEq4Xlw6q",
        "outputId": "8bdb44b2-cc41-4876-c43d-1e871d784248"
      },
      "execution_count": null,
      "outputs": [
        {
          "output_type": "stream",
          "name": "stdout",
          "text": [
            "there are 2 zeros in array\n"
          ]
        }
      ]
    },
    {
      "cell_type": "code",
      "source": [
        "# another solution\n",
        "flag = np.any(arr == 0)\n",
        "if flag:\n",
        "  print(\"there are zeros in the array\")\n",
        "else:\n",
        "  print(\"Zero not found\")"
      ],
      "metadata": {
        "colab": {
          "base_uri": "https://localhost:8080/"
        },
        "id": "4rdcDPK-mk-g",
        "outputId": "49b195a1-90e1-4ea8-b2e3-d150ea6c7b68"
      },
      "execution_count": null,
      "outputs": [
        {
          "output_type": "stream",
          "name": "stdout",
          "text": [
            "there are zeros in the array\n"
          ]
        }
      ]
    },
    {
      "cell_type": "code",
      "source": [
        "# 3. Write a NumPy program to create an element-wise comparison (equal, equal within a tolerance) of two given\n",
        "\n",
        "x = np.array([10, 20, 30, 40, 50, 60, 70])\n",
        "y = np.array([10, 20, 30, 40, 50, 60, 60])\n",
        "\n",
        "np.equal(x, y)"
      ],
      "metadata": {
        "colab": {
          "base_uri": "https://localhost:8080/"
        },
        "id": "DqDUBHLGq8Ch",
        "outputId": "1e7e2b8d-7247-4ccd-9674-ec24717c14aa"
      },
      "execution_count": null,
      "outputs": [
        {
          "output_type": "execute_result",
          "data": {
            "text/plain": [
              "array([ True,  True,  True,  True,  True,  True, False])"
            ]
          },
          "metadata": {},
          "execution_count": 9
        }
      ]
    },
    {
      "cell_type": "code",
      "source": [
        "# 4. Write a NumPy program to create an array of 10 zeros,10 ones, 10 fives.\n",
        "x = np.ones(10)\n",
        "y = np.zeros(10)\n",
        "z = np.full(10, 5)\n",
        "\n",
        "v = np.block([x, y, z])\n",
        "v"
      ],
      "metadata": {
        "colab": {
          "base_uri": "https://localhost:8080/"
        },
        "id": "AhsFdPZhsaG1",
        "outputId": "b2e271d4-397d-4e14-d0cb-f6a6219370c7"
      },
      "execution_count": null,
      "outputs": [
        {
          "output_type": "execute_result",
          "data": {
            "text/plain": [
              "array([1., 1., 1., 1., 1., 1., 1., 1., 1., 1., 0., 0., 0., 0., 0., 0., 0.,\n",
              "       0., 0., 0., 5., 5., 5., 5., 5., 5., 5., 5., 5., 5.])"
            ]
          },
          "metadata": {},
          "execution_count": 10
        }
      ]
    },
    {
      "cell_type": "code",
      "source": [
        "# 5. Write a NumPy program to create an array of the integers from 30 to70.\n",
        "arr = np.arange(30, 71)\n",
        "arr"
      ],
      "metadata": {
        "colab": {
          "base_uri": "https://localhost:8080/"
        },
        "id": "QOZMs9zxuTmn",
        "outputId": "4e1097fd-7ce2-4138-c7f7-5442505d8c13"
      },
      "execution_count": null,
      "outputs": [
        {
          "output_type": "execute_result",
          "data": {
            "text/plain": [
              "array([30, 31, 32, 33, 34, 35, 36, 37, 38, 39, 40, 41, 42, 43, 44, 45, 46,\n",
              "       47, 48, 49, 50, 51, 52, 53, 54, 55, 56, 57, 58, 59, 60, 61, 62, 63,\n",
              "       64, 65, 66, 67, 68, 69, 70])"
            ]
          },
          "metadata": {},
          "execution_count": 11
        }
      ]
    },
    {
      "cell_type": "code",
      "source": [
        "# 6. Write a NumPy program to create a 3x3 identity matrix\n",
        "arr = np.eye(3)\n",
        "arr"
      ],
      "metadata": {
        "colab": {
          "base_uri": "https://localhost:8080/"
        },
        "id": "2PwmVBh5xJE1",
        "outputId": "9d2f09d3-c24b-4883-b196-19776e6c3916"
      },
      "execution_count": null,
      "outputs": [
        {
          "output_type": "execute_result",
          "data": {
            "text/plain": [
              "array([[1., 0., 0.],\n",
              "       [0., 1., 0.],\n",
              "       [0., 0., 1.]])"
            ]
          },
          "metadata": {},
          "execution_count": 12
        }
      ]
    },
    {
      "cell_type": "code",
      "source": [
        "# 7. Write a NumPy program to generate a random number between 0 and 1\n",
        "\n",
        "randomNumber = np.random.rand()\n",
        "randomNumber"
      ],
      "metadata": {
        "colab": {
          "base_uri": "https://localhost:8080/"
        },
        "id": "xflzOYt8xRub",
        "outputId": "646bdd13-5fbe-4af4-e3f8-d8d90b2de652"
      },
      "execution_count": null,
      "outputs": [
        {
          "output_type": "execute_result",
          "data": {
            "text/plain": [
              "0.08293033012173678"
            ]
          },
          "metadata": {},
          "execution_count": 13
        }
      ]
    },
    {
      "cell_type": "code",
      "source": [
        "# 8. Write a NumPy program to generate an array of 15 random numbers from a standard normal distribution\n",
        "np.random.randn(15)"
      ],
      "metadata": {
        "colab": {
          "base_uri": "https://localhost:8080/"
        },
        "id": "odGpQBQXx_jP",
        "outputId": "95ec1223-edb3-4f7b-a684-baedc6345fff"
      },
      "execution_count": null,
      "outputs": [
        {
          "output_type": "execute_result",
          "data": {
            "text/plain": [
              "array([ 1.31509518,  0.65039685, -0.34361676,  0.68482132, -0.34803681,\n",
              "       -0.76116638, -1.20348631, -0.20971444, -0.90446535,  2.51105359,\n",
              "       -0.02227718,  0.03461619,  0.52184862,  0.39231721,  1.50409904])"
            ]
          },
          "metadata": {},
          "execution_count": 14
        }
      ]
    },
    {
      "cell_type": "code",
      "source": [
        "# 9. Write a NumPy program to create a vector with values ranging from 15 to 55 and print all values except the first and last.\n",
        "arr = np.arange(15, 56)[1:-1]\n",
        "arr"
      ],
      "metadata": {
        "colab": {
          "base_uri": "https://localhost:8080/"
        },
        "id": "Z_D6mIvIyo22",
        "outputId": "0e2287ab-8c14-4e7f-bb7e-abdae95ec9bb"
      },
      "execution_count": null,
      "outputs": [
        {
          "output_type": "execute_result",
          "data": {
            "text/plain": [
              "array([16, 17, 18, 19, 20, 21, 22, 23, 24, 25, 26, 27, 28, 29, 30, 31, 32,\n",
              "       33, 34, 35, 36, 37, 38, 39, 40, 41, 42, 43, 44, 45, 46, 47, 48, 49,\n",
              "       50, 51, 52, 53, 54])"
            ]
          },
          "metadata": {},
          "execution_count": 15
        }
      ]
    },
    {
      "cell_type": "code",
      "source": [
        "# 10. Write a NumPy program to create a vector of length 5 filled with arbitrary integers from 0 to 10\n",
        "arr = np.linspace(0, 10, 5)\n",
        "arr"
      ],
      "metadata": {
        "id": "edvFEd2y0MBD",
        "colab": {
          "base_uri": "https://localhost:8080/"
        },
        "outputId": "b2f2c93a-8f76-4518-a50f-be89765efb1e"
      },
      "execution_count": null,
      "outputs": [
        {
          "output_type": "execute_result",
          "data": {
            "text/plain": [
              "array([ 0. ,  2.5,  5. ,  7.5, 10. ])"
            ]
          },
          "metadata": {},
          "execution_count": 16
        }
      ]
    },
    {
      "cell_type": "code",
      "source": [
        "# 11. Write a NumPy program to create a 10x10 matrix, in which the elements on the borders will be equal to 1, and inside 0.\n",
        "arr = np.zeros((10, 10))\n",
        "arr[0] = 1\n",
        "arr[-1] = 1\n",
        "for row in arr:\n",
        "  row[0] = 1\n",
        "  row[-1] = 1\n",
        "arr"
      ],
      "metadata": {
        "colab": {
          "base_uri": "https://localhost:8080/"
        },
        "id": "nwc9pKfLK-R4",
        "outputId": "4b6a7a4d-4ab6-4929-8581-304735d93f06"
      },
      "execution_count": null,
      "outputs": [
        {
          "output_type": "execute_result",
          "data": {
            "text/plain": [
              "array([[1., 1., 1., 1., 1., 1., 1., 1., 1., 1.],\n",
              "       [1., 0., 0., 0., 0., 0., 0., 0., 0., 1.],\n",
              "       [1., 0., 0., 0., 0., 0., 0., 0., 0., 1.],\n",
              "       [1., 0., 0., 0., 0., 0., 0., 0., 0., 1.],\n",
              "       [1., 0., 0., 0., 0., 0., 0., 0., 0., 1.],\n",
              "       [1., 0., 0., 0., 0., 0., 0., 0., 0., 1.],\n",
              "       [1., 0., 0., 0., 0., 0., 0., 0., 0., 1.],\n",
              "       [1., 0., 0., 0., 0., 0., 0., 0., 0., 1.],\n",
              "       [1., 0., 0., 0., 0., 0., 0., 0., 0., 1.],\n",
              "       [1., 1., 1., 1., 1., 1., 1., 1., 1., 1.]])"
            ]
          },
          "metadata": {},
          "execution_count": 17
        }
      ]
    },
    {
      "cell_type": "code",
      "source": [
        "# 12. Write a NumPy program to create a 5x5 zero matrix with elements on the main diagonal equal to 1, 2, 3, 4, 5.\n",
        "arr = np.diag(np.full(5, [1, 2, 3, 4, 5]))\n",
        "arr"
      ],
      "metadata": {
        "colab": {
          "base_uri": "https://localhost:8080/"
        },
        "id": "p4ap2IaGLuyj",
        "outputId": "eac939ec-f3a9-41c2-d04f-f43f51e6813d"
      },
      "execution_count": null,
      "outputs": [
        {
          "output_type": "execute_result",
          "data": {
            "text/plain": [
              "array([[1, 0, 0, 0, 0],\n",
              "       [0, 2, 0, 0, 0],\n",
              "       [0, 0, 3, 0, 0],\n",
              "       [0, 0, 0, 4, 0],\n",
              "       [0, 0, 0, 0, 5]])"
            ]
          },
          "metadata": {},
          "execution_count": 18
        }
      ]
    },
    {
      "cell_type": "code",
      "source": [
        "#Write a NumPy program to create a 4x4 matrix in which 0 and 1 are staggered, with zeros on the main diagonal.\n",
        "\n",
        "matrix = np.ones((4, 4))\n",
        "np.fill_diagonal(matrix, 0)\n",
        "print(matrix)"
      ],
      "metadata": {
        "id": "8Y4oakH6O2wD",
        "colab": {
          "base_uri": "https://localhost:8080/"
        },
        "outputId": "7a189272-7387-4f90-926c-a77e8c0f9e47"
      },
      "execution_count": 2,
      "outputs": [
        {
          "output_type": "stream",
          "name": "stdout",
          "text": [
            "[[0. 1. 1. 1.]\n",
            " [1. 0. 1. 1.]\n",
            " [1. 1. 0. 1.]\n",
            " [1. 1. 1. 0.]]\n"
          ]
        }
      ]
    },
    {
      "cell_type": "code",
      "source": [
        "#Write a NumPy program to save two given arrays into a single file in compressed format (.npz format) and load it.\n",
        "\n",
        "Mat1 = np.ones((3, 4))\n",
        "Mat2 = np.zeros((5, 3))\n",
        "\n",
        "np.savez('file.npz', Ones_Mat=Mat1, Zeros_Mat=Mat2)\n",
        "\n",
        "with np.load('file.npz') as file:\n",
        "    Mat1 = file['Ones_Mat']\n",
        "    Mat2 = file['Zeros_Mat']\n",
        "    print(Mat1)\n",
        "    print(Mat2)"
      ],
      "metadata": {
        "colab": {
          "base_uri": "https://localhost:8080/"
        },
        "id": "8eCf4hMOQj-k",
        "outputId": "5765bfaa-b370-4316-e490-c44846503f7f"
      },
      "execution_count": 3,
      "outputs": [
        {
          "output_type": "stream",
          "name": "stdout",
          "text": [
            "[[1. 1. 1. 1.]\n",
            " [1. 1. 1. 1.]\n",
            " [1. 1. 1. 1.]]\n",
            "[[0. 0. 0.]\n",
            " [0. 0. 0.]\n",
            " [0. 0. 0.]\n",
            " [0. 0. 0.]\n",
            " [0. 0. 0.]]\n"
          ]
        }
      ]
    },
    {
      "cell_type": "code",
      "source": [
        "#Write a NumPy program to create a one-dimensional array of forty pseudo-randomly generated values. Select\n",
        "np.random.seed(42)\n",
        "array = np.random.rand(40)\n",
        "print(array)"
      ],
      "metadata": {
        "colab": {
          "base_uri": "https://localhost:8080/"
        },
        "id": "aqzFyLH8Q8-v",
        "outputId": "5dfa6ba3-f71d-474a-b880-a08fb3151944"
      },
      "execution_count": 4,
      "outputs": [
        {
          "output_type": "stream",
          "name": "stdout",
          "text": [
            "[0.37454012 0.95071431 0.73199394 0.59865848 0.15601864 0.15599452\n",
            " 0.05808361 0.86617615 0.60111501 0.70807258 0.02058449 0.96990985\n",
            " 0.83244264 0.21233911 0.18182497 0.18340451 0.30424224 0.52475643\n",
            " 0.43194502 0.29122914 0.61185289 0.13949386 0.29214465 0.36636184\n",
            " 0.45606998 0.78517596 0.19967378 0.51423444 0.59241457 0.04645041\n",
            " 0.60754485 0.17052412 0.06505159 0.94888554 0.96563203 0.80839735\n",
            " 0.30461377 0.09767211 0.68423303 0.44015249]\n"
          ]
        }
      ]
    },
    {
      "cell_type": "code",
      "source": [],
      "metadata": {
        "id": "nn7uY5pNRKeU"
      },
      "execution_count": null,
      "outputs": []
    }
  ]
}